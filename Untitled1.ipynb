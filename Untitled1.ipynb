{
 "cells": [
  {
   "cell_type": "code",
   "execution_count": null,
   "metadata": {},
   "outputs": [],
   "source": [
    "import numpy as np\n",
    "import pandas as pd\n",
    "import json"
   ]
  },
  {
   "cell_type": "code",
   "execution_count": null,
   "metadata": {},
   "outputs": [],
   "source": [
    "\n",
    "def openjson(d):\n",
    "    #d is a dictionary which has been stored as a json file\n",
    "    d=d[\"data\"]#splitting the dictionary and accessing its data\n",
    "    d=d[\"weather\"]#splitting the dictionary and accessing its data\n",
    "    j=d[0][\"hourly\"]#hourly is a json a file inside a json file , j=d[0][\"hourly\"] is used to access the first 24 hours of the day and its corresponding weather\n",
    "    weatherdata=pd.DataFrame(j)#dataframe containing the weather data of the first day\n",
    "    for i in range(1,len(d)):\n",
    "        k=d[i][\"hourly\"]#iteratively stores the weather data of every day byour\n",
    "        weatherdata_iterator=pd.DataFrame(k)\n",
    "        weatherdata=pd.concat([weatherdata,weatherdata_iterator])#dataframe has the entire weather data by hour \n",
    "    a=np.arange(len(weatherdata))\n",
    "    weatherdata.index=a#setting a uniform index for the dataframe\n",
    "    data=pd.DataFrame(d)# dataframe that has information about this whole month  \n",
    "    no_of_days=len(data)# no of days in this month\n",
    "    o=d[0][\"astronomy\"]\n",
    "    moondata=pd.DataFrame(o)\n",
    "    for i in range(1,len(d)):\n",
    "        p=d[i][\"astronomy\"]\n",
    "        moondata_iterator=pd.DataFrame(p)\n",
    "        moondata=pd.concat([moondata,moondata_iterator]) \n",
    "    moondata.index=np.arange(len(moondata))\n",
    "    moondata[\"date\"]=data[\"date\"]\n",
    "    data=pd.concat([data,moondata],axis=1)\n",
    "    hour_day_conversion1=data.copy()\n",
    "    hour_day_conversion2=pd.DataFrame()\n",
    "    for i in range(0,no_of_days):\n",
    "        for j in range(0,24):\n",
    "            hour_day_conversion1.iloc[j,:]=data.iloc[i,:]\n",
    "        hour_day_conversion1=hour_day_conversion1.iloc[0:24,:]    \n",
    "        hour_day_conversion2=pd.concat([hour_day_conversion2,hour_day_conversion1])\n",
    "    hour_day_conversion2.index=np.arange(len(hour_day_conversion2))\n",
    "    final_data=pd.concat([hour_day_conversion2,weatherdata],axis=1)\n",
    "    final_data.drop([\"astronomy\",\"hourly\"],axis=1,inplace=True)\n",
    "    return final_data\n",
    "\n",
    "\n"
   ]
  },
  {
   "cell_type": "code",
   "execution_count": null,
   "metadata": {},
   "outputs": [],
   "source": [
    "\n"
   ]
  },
  {
   "cell_type": "code",
   "execution_count": null,
   "metadata": {
    "scrolled": false
   },
   "outputs": [],
   "source": [
    "\n",
    "c=\"C:\\\\Users\\\\sujay sathya\\\\Desktop\\\\project\\\\\"\n",
    "p=\"On_Time_On_Time_Performance_2016_\"\n",
    "l=[\"summy\",\"ATL\",\"CLT\",\"DEN\",\"DFW\",\"EWR\",\"IAH\",\"JFK\",\"LAS\",\"LAX\",\"MCO\",\"MIA\",\"ORD\",\"PHX\",\"SEA\",\"SFO\"]\n",
    "data_2016=pd.DataFrame()\n",
    "for i in range(1,13):\n",
    "    data_2016_iterator=pd.DataFrame()\n",
    "    f=p+str(i)+\".csv\"\n",
    "    print(f)\n",
    "    flight_data=pd.read_csv(f,low_memory=False)\n",
    "    flight_data[\"time\"]=flight_data.CRSDepTime/100\n",
    "    flight_data.time=flight_data.time.astype(\"int\")\n",
    "    for j in range(1,len(l)):\n",
    "        e=c+str(l[j])+\"\\\\\"+\"2016-\"+str(i)+\".json\"\n",
    "        f=open(e,\"r\")\n",
    "        d=json.load(f)\n",
    "        weather_data=openjson(d)\n",
    "        weather_data[\"loc\"]=l[j]\n",
    "        weather_data[\"time\"]=weather_data.index%24\n",
    "        weather_data.columns=['off', 'maxtempC', 'maxtempF', 'mintempC', 'mintempF', 'sunHour',\n",
    "       'totalSnow_cm', 'uvIndex', 'moon_illumination', 'moon_phase',\n",
    "       'moonrise', 'moonset', 'sunrise', 'sunset', 'date', 'DewPointC',\n",
    "       'DewPointF', 'FeelsLikeC', 'FeelsLikeF', 'HeatIndexC', 'HeatIndexF',\n",
    "       'WindChillC', 'WindChillF', 'WindGustKmph', 'WindGustMiles',\n",
    "       'cloudcover', 'humidity', 'precipMM', 'pressure', 'tempC', 'tempF',\n",
    "       'time', 'visibility', 'weatherCode', 'weatherDesc', 'weatherIconUrl',\n",
    "       'winddir16Point', 'winddirDegree', 'windspeedKmph', 'windspeedMiles',\n",
    "       'loc']\n",
    "        weather_data.drop([\"off\"],axis=1,inplace=True)\n",
    "        data_2016_iterator=pd.concat([data_2016_iterator,flight_data.merge(weather_data,how='inner',left_on=[\"Origin\",\"time\",\"FlightDate\"],right_on=[\"loc\",\"time\",\"date\"],validate=\"many_to_many\")],axis=0)\n",
    "        data_2016_iterator=data_2016_iterator[(data_2016_iterator.Dest==\"ATL\") | (data_2016_iterator.Dest==\"CLT\")| (data_2016_iterator.Dest==\"DEN\")| (data_2016_iterator.Dest==\"DFW\")| (data_2016_iterator.Dest==\"EWR\")| (data_2016_iterator.Dest==\"IAH\")| (data_2016_iterator.Dest==\"JFK\")| (data_2016_iterator.Dest==\"LAS\")| (data_2016_iterator.Dest==\"LAX\")| (data_2016_iterator.Dest==\"MCO\")| (data_2016_iterator.Dest==\"MIA\")| (data_2016_iterator.Dest==\"ORD\")| (data_2016_iterator.Dest==\"PHX\")| (data_2016_iterator.Dest==\"SEA\")| (data_2016_iterator.Dest==\"SFO\")]\n",
    "    data_2016=pd.concat([data_2016,data_2016_iterator],axis=0)\n",
    "data_2016    \n",
    "        \n",
    "        \n",
    "        \n",
    "        \n",
    "        \n"
   ]
  },
  {
   "cell_type": "code",
   "execution_count": null,
   "metadata": {},
   "outputs": [],
   "source": [
    "data_2016 .to_csv(\"2016data.csv\")"
   ]
  },
  {
   "cell_type": "code",
   "execution_count": null,
   "metadata": {},
   "outputs": [],
   "source": [
    "\n",
    "c=\"C:\\\\Users\\\\sujay sathya\\\\Desktop\\\\project\\\\\"\n",
    "p=\"On_Time_On_Time_Performance_2017_\"\n",
    "l=[\"summy\",\"ATL\",\"CLT\",\"DEN\",\"DFW\",\"EWR\",\"IAH\",\"JFK\",\"LAS\",\"LAX\",\"MCO\",\"MIA\",\"ORD\",\"PHX\",\"SEA\",\"SFO\"]\n",
    "data_2017=pd.DataFrame()\n",
    "for i in range(1,13):\n",
    "    data_2017_iterator=pd.DataFrame()\n",
    "    f=p+str(i)+\".csv\"\n",
    "    print(f)\n",
    "    flight_data=pd.read_csv(f,low_memory=False)\n",
    "    flight_data[\"time\"]=flight_data.CRSDepTime/100\n",
    "    flight_data.time=flight_data.time.astype(\"int\")\n",
    "    for j in range(1,len(l)):\n",
    "        e=c+str(l[j])+\"\\\\\"+\"2017-\"+str(i)+\".json\"\n",
    "        f=open(e,\"r\")\n",
    "        d=json.load(f)\n",
    "        weather_data=openjson(d)\n",
    "        weather_data[\"loc\"]=l[j]\n",
    "        weather_data[\"time\"]=weather_data.index%24\n",
    "        weather_data.columns=['off', 'maxtempC', 'maxtempF', 'mintempC', 'mintempF', 'sunHour',\n",
    "       'totalSnow_cm', 'uvIndex', 'moon_illumination', 'moon_phase',\n",
    "       'moonrise', 'moonset', 'sunrise', 'sunset', 'date', 'DewPointC',\n",
    "       'DewPointF', 'FeelsLikeC', 'FeelsLikeF', 'HeatIndexC', 'HeatIndexF',\n",
    "       'WindChillC', 'WindChillF', 'WindGustKmph', 'WindGustMiles',\n",
    "       'cloudcover', 'humidity', 'precipMM', 'pressure', 'tempC', 'tempF',\n",
    "       'time', 'visibility', 'weatherCode', 'weatherDesc', 'weatherIconUrl',\n",
    "       'winddir16Point', 'winddirDegree', 'windspeedKmph', 'windspeedMiles',\n",
    "       'loc']\n",
    "        weather_data.drop([\"off\"],axis=1,inplace=True)\n",
    "        data_2017_iterator=pd.concat([data_2017_iterator,flight_data.merge(weather_data,how='inner',left_on=[\"Origin\",\"time\",\"FlightDate\"],right_on=[\"loc\",\"time\",\"date\"],validate=\"many_to_many\")],axis=0)\n",
    "        data_2017_iterator=data_2017_iterator[(data_2017_iterator.Dest==\"ATL\") | (data_2017_iterator.Dest==\"CLT\")| (data_2017_iterator.Dest==\"DEN\")| (data_2017_iterator.Dest==\"DFW\")| (data_2017_iterator.Dest==\"EWR\")| (data_2017_iterator.Dest==\"IAH\")| (data_2017_iterator.Dest==\"JFK\")| (data_2017_iterator.Dest==\"LAS\")| (data_2017_iterator.Dest==\"LAX\")| (data_2017_iterator.Dest==\"MCO\")| (data_2017_iterator.Dest==\"MIA\")| (data_2017_iterator.Dest==\"ORD\")| (data_2017_iterator.Dest==\"PHX\")| (data_2017_iterator.Dest==\"SEA\")| (data_2017_iterator.Dest==\"SFO\")]\n",
    "    data_2017=pd.concat([data_2017,data_2017_iterator],axis=0)\n",
    "data_2017    \n",
    "        "
   ]
  },
  {
   "cell_type": "code",
   "execution_count": null,
   "metadata": {},
   "outputs": [],
   "source": [
    "data_2017.to_csv(\"2017data.csv\")"
   ]
  },
  {
   "cell_type": "code",
   "execution_count": 7,
   "metadata": {},
   "outputs": [],
   "source": [
    "\n",
    "\n",
    "pd.set_option('display.max_columns', 130)\n",
    "df=pd.read_csv(\"2016data.csv\")\n",
    "df=df[[\"FlightDate\",\"Quarter\",\"Year\",\"Month\",\"DayofMonth\",\"DepTime\",\"DepDel15\",\"CRSDepTime\",\"DepDelayMinutes\",\"OriginAirportID\",\"DestAirportID\",\"ArrTime\",\"CRSArrTime\",\"ArrDel15\",\"ArrDelayMinutes\",\"windspeedKmph\",\"winddirDegree\",\"weatherCode\",\"precipMM\",\"visibility\",\"pressure\",\"cloudcover\",\"DewPointF\",\"WindGustKmph\",\"tempF\",\"WindChillF\",\"humidity\",\"date\",\"time\",\"loc\"]]\n",
    "df1=pd.read_csv(\"2017data.csv\")\n",
    "df1=df1[[\"FlightDate\",\"Quarter\",\"Year\",\"Month\",\"DayofMonth\",\"DepTime\",\"DepDel15\",\"CRSDepTime\",\"DepDelayMinutes\",\"OriginAirportID\",\"DestAirportID\",\"ArrTime\",\"CRSArrTime\",\"ArrDel15\",\"ArrDelayMinutes\",\"windspeedKmph\",\"winddirDegree\",\"weatherCode\",\"precipMM\",\"visibility\",\"pressure\",\"cloudcover\",\"DewPointF\",\"WindGustKmph\",\"tempF\",\"WindChillF\",\"humidity\",\"date\",\"time\",\"loc\"]]\n",
    "maindf=pd.concat([df,df1],axis=0)\n"
   ]
  },
  {
   "cell_type": "code",
   "execution_count": 10,
   "metadata": {},
   "outputs": [],
   "source": [
    "\n",
    "maindf=maindf.dropna()\n",
    "maindf.index=np.arange(1851436)"
   ]
  },
  {
   "cell_type": "code",
   "execution_count": 11,
   "metadata": {},
   "outputs": [],
   "source": [
    "maindf.to_csv(\"maindataframe.csv\")"
   ]
  },
  {
   "cell_type": "code",
   "execution_count": null,
   "metadata": {},
   "outputs": [],
   "source": []
  },
  {
   "cell_type": "code",
   "execution_count": null,
   "metadata": {},
   "outputs": [],
   "source": []
  },
  {
   "cell_type": "code",
   "execution_count": null,
   "metadata": {},
   "outputs": [],
   "source": []
  },
  {
   "cell_type": "code",
   "execution_count": null,
   "metadata": {},
   "outputs": [],
   "source": []
  },
  {
   "cell_type": "code",
   "execution_count": null,
   "metadata": {},
   "outputs": [],
   "source": []
  },
  {
   "cell_type": "code",
   "execution_count": null,
   "metadata": {},
   "outputs": [],
   "source": [
    "\n",
    "    \n",
    "    "
   ]
  },
  {
   "cell_type": "code",
   "execution_count": null,
   "metadata": {},
   "outputs": [],
   "source": []
  }
 ],
 "metadata": {
  "kernelspec": {
   "display_name": "Python 3",
   "language": "python",
   "name": "python3"
  }
 },
 "nbformat": 4,
 "nbformat_minor": 2
}
