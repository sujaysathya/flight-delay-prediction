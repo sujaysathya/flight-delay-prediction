{
 "cells": [
  {
   "cell_type": "code",
   "execution_count": null,
   "metadata": {},
   "outputs": [],
   "source": [
    "\n",
    "import pandas as pd\n",
    "\n",
    "import numpy as np\n",
    "def openjson(d):\n",
    "    #d is a dictionary which has been stored as a json file\n",
    "    d=d[\"data\"]#splitting the dictionary and accessing its data\n",
    "    d=d[\"weather\"]#splitting the dictionary and accessing its data\n",
    "    j=d[0][\"hourly\"]#hourly is a json a file inside a json file , j=d[0][\"hourly\"] is used to access the first 24 hours of the day and its corresponding weather\n",
    "    data1=pd.DataFrame(j)#dataframe containing the weather data of the first day\n",
    "    for i in range(1,len(d)):\n",
    "        k=d[i][\"hourly\"]#iteratively stores the weather data of every day byour\n",
    "        data2=pd.DataFrame(k)\n",
    "        data1=pd.concat([data1,data2])#dataframe has the entire weather data by hour \n",
    "    a=np.arange(len(data1))\n",
    "    data1.index=a#setting a uniform index for the dataframe\n",
    "    data=pd.DataFrame(d)# dataframe that has information about this whole month  \n",
    "    no_of_days=len(data)# no of days in this month\n",
    "    o=d[0][\"astronomy\"]\n",
    "    data3=pd.DataFrame(o)\n",
    "    for i in range(1,len(d)):\n",
    "        p=d[i][\"astronomy\"]\n",
    "        data4=pd.DataFrame(p)\n",
    "        data3=pd.concat([data3,data4]) \n",
    "    data3.index=np.arange(len(data3))\n",
    "    data3[\"date\"]=data[\"date\"]\n",
    "    data=pd.concat([data,data3],axis=1)\n",
    "    data6=data.copy()\n",
    "    data7=pd.DataFrame()\n",
    "    for i in range(0,no_of_days):\n",
    "        for j in range(0,24):\n",
    "            data6.iloc[j,:]=data.iloc[i,:]\n",
    "        data6=data6.iloc[0:24,:]    \n",
    "        data7=pd.concat([data7,data6])\n",
    "    data7.index=np.arange(len(data7))\n",
    "    data8=pd.concat([data7,data1],axis=1)\n",
    "    data8.drop([\"astronomy\",\"hourly\"],axis=1,inplace=True)\n",
    "    return data8\n",
    "\n",
    "import numpy as np\n",
    "import pandas as pd\n",
    "import json\n"
   ]
  },
  {
   "cell_type": "code",
   "execution_count": null,
   "metadata": {},
   "outputs": [],
   "source": [
    "\n"
   ]
  },
  {
   "cell_type": "code",
   "execution_count": null,
   "metadata": {
    "scrolled": false
   },
   "outputs": [],
   "source": [
    "import json\n",
    "c=\"C:\\\\Users\\\\sujay sathya\\\\Desktop\\\\project\\\\\"\n",
    "p=\"On_Time_On_Time_Performance_2016_\"\n",
    "l=[\"summy\",\"ATL\",\"CLT\",\"DEN\",\"DFW\",\"EWR\",\"IAH\",\"JFK\",\"LAS\",\"LAX\",\"MCO\",\"MIA\",\"ORD\",\"PHX\",\"SEA\",\"SFO\"]\n",
    "call=pd.DataFrame()\n",
    "for i in range(1,13):\n",
    "    ball=pd.DataFrame()\n",
    "    f=p+str(i)+\".csv\"\n",
    "    print(f)\n",
    "    lol=pd.read_csv(f,low_memory=False)\n",
    "    lol[\"time\"]=lol.CRSDepTime/100\n",
    "    lol.time=lol.time.astype(\"int\")\n",
    "    for j in range(1,len(l)):\n",
    "        e=c+str(l[j])+\"\\\\\"+\"2016-\"+str(i)+\".json\"\n",
    "        f=open(e,\"r\")\n",
    "        d=json.load(f)\n",
    "        df=openjson(d)\n",
    "        df[\"loc\"]=l[j]\n",
    "        df[\"time\"]=df.index%24\n",
    "        df.columns=['off', 'maxtempC', 'maxtempF', 'mintempC', 'mintempF', 'sunHour',\n",
    "       'totalSnow_cm', 'uvIndex', 'moon_illumination', 'moon_phase',\n",
    "       'moonrise', 'moonset', 'sunrise', 'sunset', 'date', 'DewPointC',\n",
    "       'DewPointF', 'FeelsLikeC', 'FeelsLikeF', 'HeatIndexC', 'HeatIndexF',\n",
    "       'WindChillC', 'WindChillF', 'WindGustKmph', 'WindGustMiles',\n",
    "       'cloudcover', 'humidity', 'precipMM', 'pressure', 'tempC', 'tempF',\n",
    "       'time', 'visibility', 'weatherCode', 'weatherDesc', 'weatherIconUrl',\n",
    "       'winddir16Point', 'winddirDegree', 'windspeedKmph', 'windspeedMiles',\n",
    "       'loc']\n",
    "        df.drop([\"off\"],axis=1,inplace=True)\n",
    "        ball=pd.concat([ball,lol.merge(df,how='inner',left_on=[\"Origin\",\"time\",\"FlightDate\"],right_on=[\"loc\",\"time\",\"date\"],validate=\"many_to_many\")],axis=0)\n",
    "        ball=ball[(ball.Dest==\"ATL\") | (ball.Dest==\"CLT\")| (ball.Dest==\"DEN\")| (ball.Dest==\"DFW\")| (ball.Dest==\"EWR\")| (ball.Dest==\"IAH\")| (ball.Dest==\"JFK\")| (ball.Dest==\"LAS\")| (ball.Dest==\"LAX\")| (ball.Dest==\"MCO\")| (ball.Dest==\"MIA\")| (ball.Dest==\"ORD\")| (ball.Dest==\"PHX\")| (ball.Dest==\"SEA\")| (ball.Dest==\"SFO\")]\n",
    "    x=\"final_2016_\"+str(i)+\".csv\"\n",
    "    call=pd.concat([call,ball],axis=0)\n",
    "call    \n",
    "        \n",
    "        \n",
    "        \n",
    "        \n",
    "        \n"
   ]
  },
  {
   "cell_type": "code",
   "execution_count": null,
   "metadata": {},
   "outputs": [],
   "source": [
    "call.to_csv(\"2016data.csv\")"
   ]
  },
  {
   "cell_type": "code",
   "execution_count": null,
   "metadata": {},
   "outputs": [],
   "source": [
    "import json\n",
    "c=\"C:\\\\Users\\\\sujay sathya\\\\Desktop\\\\project\\\\\"\n",
    "p=\"On_Time_On_Time_Performance_2017_\"\n",
    "l=[\"summy\",\"ATL\",\"CLT\",\"DEN\",\"DFW\",\"EWR\",\"IAH\",\"JFK\",\"LAS\",\"LAX\",\"MCO\",\"MIA\",\"ORD\",\"PHX\",\"SEA\",\"SFO\"]\n",
    "call=pd.DataFrame()\n",
    "for i in range(1,13):\n",
    "    ball=pd.DataFrame()\n",
    "    f=p+str(i)+\".csv\"\n",
    "    print(f)\n",
    "    lol=pd.read_csv(f,low_memory=False)\n",
    "    lol[\"time\"]=lol.CRSDepTime/100\n",
    "    lol.time=lol.time.astype(\"int\")\n",
    "    for j in range(1,len(l)):\n",
    "        e=c+str(l[j])+\"\\\\\"+\"2017-\"+str(i)+\".json\"\n",
    "        f=open(e,\"r\")\n",
    "        d=json.load(f)\n",
    "        df=openjson(d)\n",
    "        df[\"loc\"]=l[j]\n",
    "        df[\"time\"]=df.index%24\n",
    "        df.columns=['off', 'maxtempC', 'maxtempF', 'mintempC', 'mintempF', 'sunHour',\n",
    "       'totalSnow_cm', 'uvIndex', 'moon_illumination', 'moon_phase',\n",
    "       'moonrise', 'moonset', 'sunrise', 'sunset', 'date', 'DewPointC',\n",
    "       'DewPointF', 'FeelsLikeC', 'FeelsLikeF', 'HeatIndexC', 'HeatIndexF',\n",
    "       'WindChillC', 'WindChillF', 'WindGustKmph', 'WindGustMiles',\n",
    "       'cloudcover', 'humidity', 'precipMM', 'pressure', 'tempC', 'tempF',\n",
    "       'time', 'visibility', 'weatherCode', 'weatherDesc', 'weatherIconUrl',\n",
    "       'winddir16Point', 'winddirDegree', 'windspeedKmph', 'windspeedMiles',\n",
    "       'loc']\n",
    "        df.drop([\"off\"],axis=1,inplace=True)\n",
    "        ball=pd.concat([ball,lol.merge(df,how='inner',left_on=[\"Origin\",\"time\",\"FlightDate\"],right_on=[\"loc\",\"time\",\"date\"],validate=\"many_to_many\")],axis=0)\n",
    "        ball=ball[(ball.Dest==\"ATL\") | (ball.Dest==\"CLT\")| (ball.Dest==\"DEN\")| (ball.Dest==\"DFW\")| (ball.Dest==\"EWR\")| (ball.Dest==\"IAH\")| (ball.Dest==\"JFK\")| (ball.Dest==\"LAS\")| (ball.Dest==\"LAX\")| (ball.Dest==\"MCO\")| (ball.Dest==\"MIA\")| (ball.Dest==\"ORD\")| (ball.Dest==\"PHX\")| (ball.Dest==\"SEA\")| (ball.Dest==\"SFO\")]\n",
    "    x=\"final_2017_\"+str(i)+\".csv\"\n",
    "    call=pd.concat([call,ball],axis=0)\n",
    "call    \n",
    "        "
   ]
  },
  {
   "cell_type": "code",
   "execution_count": null,
   "metadata": {},
   "outputs": [],
   "source": [
    "call.to_csv(\"2017data.csv\")"
   ]
  },
  {
   "cell_type": "code",
   "execution_count": 7,
   "metadata": {},
   "outputs": [],
   "source": [
    "import pandas as pd\n",
    "\n",
    "pd.set_option('display.max_columns', 130)\n",
    "df=pd.read_csv(\"2016data.csv\")\n",
    "df=df[[\"FlightDate\",\"Quarter\",\"Year\",\"Month\",\"DayofMonth\",\"DepTime\",\"DepDel15\",\"CRSDepTime\",\"DepDelayMinutes\",\"OriginAirportID\",\"DestAirportID\",\"ArrTime\",\"CRSArrTime\",\"ArrDel15\",\"ArrDelayMinutes\",\"windspeedKmph\",\"winddirDegree\",\"weatherCode\",\"precipMM\",\"visibility\",\"pressure\",\"cloudcover\",\"DewPointF\",\"WindGustKmph\",\"tempF\",\"WindChillF\",\"humidity\",\"date\",\"time\",\"loc\"]]\n",
    "df1=pd.read_csv(\"2017data.csv\")\n",
    "df1=df1[[\"FlightDate\",\"Quarter\",\"Year\",\"Month\",\"DayofMonth\",\"DepTime\",\"DepDel15\",\"CRSDepTime\",\"DepDelayMinutes\",\"OriginAirportID\",\"DestAirportID\",\"ArrTime\",\"CRSArrTime\",\"ArrDel15\",\"ArrDelayMinutes\",\"windspeedKmph\",\"winddirDegree\",\"weatherCode\",\"precipMM\",\"visibility\",\"pressure\",\"cloudcover\",\"DewPointF\",\"WindGustKmph\",\"tempF\",\"WindChillF\",\"humidity\",\"date\",\"time\",\"loc\"]]\n",
    "maindf=pd.concat([df,df1],axis=0)\n"
   ]
  },
  {
   "cell_type": "code",
   "execution_count": 10,
   "metadata": {},
   "outputs": [],
   "source": [
    "import numpy as np\n",
    "maindf=maindf.dropna()\n",
    "maindf.index=np.arange(1851436)"
   ]
  },
  {
   "cell_type": "code",
   "execution_count": 11,
   "metadata": {},
   "outputs": [],
   "source": [
    "maindf.to_csv(\"maindataframe.csv\")"
   ]
  },
  {
   "cell_type": "code",
   "execution_count": 12,
   "metadata": {},
   "outputs": [
    {
     "data": {
      "text/plain": [
       "<bound method Series.unique of 0          2016\n",
       "1          2016\n",
       "2          2016\n",
       "3          2016\n",
       "4          2016\n",
       "5          2016\n",
       "6          2016\n",
       "7          2016\n",
       "8          2016\n",
       "9          2016\n",
       "10         2016\n",
       "11         2016\n",
       "12         2016\n",
       "13         2016\n",
       "14         2016\n",
       "15         2016\n",
       "16         2016\n",
       "17         2016\n",
       "18         2016\n",
       "19         2016\n",
       "20         2016\n",
       "21         2016\n",
       "22         2016\n",
       "23         2016\n",
       "24         2016\n",
       "25         2016\n",
       "26         2016\n",
       "27         2016\n",
       "28         2016\n",
       "29         2016\n",
       "           ... \n",
       "1851406    2017\n",
       "1851407    2017\n",
       "1851408    2017\n",
       "1851409    2017\n",
       "1851410    2017\n",
       "1851411    2017\n",
       "1851412    2017\n",
       "1851413    2017\n",
       "1851414    2017\n",
       "1851415    2017\n",
       "1851416    2017\n",
       "1851417    2017\n",
       "1851418    2017\n",
       "1851419    2017\n",
       "1851420    2017\n",
       "1851421    2017\n",
       "1851422    2017\n",
       "1851423    2017\n",
       "1851424    2017\n",
       "1851425    2017\n",
       "1851426    2017\n",
       "1851427    2017\n",
       "1851428    2017\n",
       "1851429    2017\n",
       "1851430    2017\n",
       "1851431    2017\n",
       "1851432    2017\n",
       "1851433    2017\n",
       "1851434    2017\n",
       "1851435    2017\n",
       "Name: Year, Length: 1851436, dtype: int64>"
      ]
     },
     "execution_count": 12,
     "metadata": {},
     "output_type": "execute_result"
    }
   ],
   "source": [
    "import pandas as pd\n",
    "k=pd.read_csv(\"maindataframe.csv\")\n",
    "k.Year.unique"
   ]
  },
  {
   "cell_type": "code",
   "execution_count": null,
   "metadata": {},
   "outputs": [],
   "source": []
  },
  {
   "cell_type": "code",
   "execution_count": null,
   "metadata": {},
   "outputs": [],
   "source": []
  },
  {
   "cell_type": "code",
   "execution_count": null,
   "metadata": {},
   "outputs": [],
   "source": []
  },
  {
   "cell_type": "code",
   "execution_count": null,
   "metadata": {},
   "outputs": [],
   "source": []
  },
  {
   "cell_type": "code",
   "execution_count": null,
   "metadata": {},
   "outputs": [],
   "source": [
    "\n",
    "    \n",
    "    "
   ]
  },
  {
   "cell_type": "code",
   "execution_count": null,
   "metadata": {},
   "outputs": [],
   "source": []
  }
 ],
 "metadata": {
  "kernelspec": {
   "display_name": "Python 3",
   "language": "python",
   "name": "python3"
  }
 },
 "nbformat": 4,
 "nbformat_minor": 2
}
